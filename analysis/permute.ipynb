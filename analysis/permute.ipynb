{
 "metadata": {
  "name": ""
 },
 "nbformat": 3,
 "nbformat_minor": 0,
 "worksheets": [
  {
   "cells": [
    {
     "cell_type": "code",
     "collapsed": false,
     "input": [
      "import qgi\n",
      "import numpy.random\n",
      "qgi.N"
     ],
     "language": "python",
     "metadata": {},
     "outputs": [
      {
       "metadata": {},
       "output_type": "pyout",
       "prompt_number": 1,
       "text": [
        "13"
       ]
      }
     ],
     "prompt_number": 1
    },
    {
     "cell_type": "code",
     "collapsed": false,
     "input": [
      "A = qgi.load_amatrix('graphs/VMB-2013/n13-0-0')\n",
      "A"
     ],
     "language": "python",
     "metadata": {},
     "outputs": [
      {
       "metadata": {},
       "output_type": "pyout",
       "prompt_number": 50,
       "text": [
        "matrix([[0, 0, 0, 0, 1, 0, 0, 1, 0, 1, 0, 1, 0],\n",
        "        [0, 0, 1, 0, 0, 1, 0, 1, 0, 0, 0, 0, 1],\n",
        "        [0, 1, 0, 1, 0, 0, 0, 0, 0, 0, 0, 0, 0],\n",
        "        [0, 0, 1, 0, 0, 0, 0, 1, 0, 1, 0, 0, 0],\n",
        "        [1, 0, 0, 0, 0, 0, 0, 0, 0, 0, 0, 0, 0],\n",
        "        [0, 1, 0, 0, 0, 0, 0, 0, 0, 0, 0, 0, 0],\n",
        "        [0, 0, 0, 0, 0, 0, 0, 1, 0, 0, 0, 1, 0],\n",
        "        [1, 1, 0, 1, 0, 0, 1, 0, 0, 0, 0, 0, 0],\n",
        "        [0, 0, 0, 0, 0, 0, 0, 0, 0, 0, 0, 1, 0],\n",
        "        [1, 0, 0, 1, 0, 0, 0, 0, 0, 0, 1, 0, 0],\n",
        "        [0, 0, 0, 0, 0, 0, 0, 0, 0, 1, 0, 0, 0],\n",
        "        [1, 0, 0, 0, 0, 0, 1, 0, 1, 0, 0, 0, 0],\n",
        "        [0, 1, 0, 0, 0, 0, 0, 0, 0, 0, 0, 0, 0]])"
       ]
      }
     ],
     "prompt_number": 50
    },
    {
     "cell_type": "code",
     "collapsed": false,
     "input": [
      "p = numpy.random.permutation(qgi.N)\n",
      "P = []\n",
      "\n",
      "for i in range(qgi.N):\n",
      "    row = zeros(qgi.N, dtype=int)\n",
      "    row[p[i]] = 1\n",
      "    P.append(row)\n",
      "    \n",
      "P = matrix(P)\n",
      "p"
     ],
     "language": "python",
     "metadata": {},
     "outputs": [
      {
       "metadata": {},
       "output_type": "pyout",
       "prompt_number": 45,
       "text": [
        "array([10,  6,  1,  7,  9,  8, 12,  3,  4,  2, 11,  5,  0])"
       ]
      }
     ],
     "prompt_number": 45
    },
    {
     "cell_type": "code",
     "collapsed": false,
     "input": [
      "Ap = A[p,:][:,p]\n",
      "Ap"
     ],
     "language": "python",
     "metadata": {},
     "outputs": [
      {
       "metadata": {},
       "output_type": "pyout",
       "prompt_number": 48,
       "text": [
        "matrix([[0, 0, 0, 0, 1, 0, 0, 0, 0, 0, 0, 0, 0],\n",
        "        [0, 0, 0, 1, 0, 0, 0, 0, 0, 0, 1, 0, 0],\n",
        "        [0, 0, 0, 1, 0, 0, 1, 0, 0, 1, 0, 1, 0],\n",
        "        [0, 1, 1, 0, 0, 0, 0, 1, 0, 0, 0, 0, 1],\n",
        "        [1, 0, 0, 0, 0, 0, 0, 1, 0, 0, 0, 0, 1],\n",
        "        [0, 0, 0, 0, 0, 0, 0, 0, 0, 0, 1, 0, 0],\n",
        "        [0, 0, 1, 0, 0, 0, 0, 0, 0, 0, 0, 0, 0],\n",
        "        [0, 0, 0, 1, 1, 0, 0, 0, 0, 1, 0, 0, 0],\n",
        "        [0, 0, 0, 0, 0, 0, 0, 0, 0, 0, 0, 0, 1],\n",
        "        [0, 0, 1, 0, 0, 0, 0, 1, 0, 0, 0, 0, 0],\n",
        "        [0, 1, 0, 0, 0, 1, 0, 0, 0, 0, 0, 0, 1],\n",
        "        [0, 0, 1, 0, 0, 0, 0, 0, 0, 0, 0, 0, 0],\n",
        "        [0, 0, 0, 1, 1, 0, 0, 0, 1, 0, 1, 0, 0]])"
       ]
      }
     ],
     "prompt_number": 48
    },
    {
     "cell_type": "code",
     "collapsed": false,
     "input": [
      "(Ap == P*A*P.T).all()"
     ],
     "language": "python",
     "metadata": {},
     "outputs": [
      {
       "metadata": {},
       "output_type": "pyout",
       "prompt_number": 47,
       "text": [
        "True"
       ]
      }
     ],
     "prompt_number": 47
    },
    {
     "cell_type": "code",
     "collapsed": false,
     "input": [
      "qgi.save_graph('graphs/n4-1-2', ap)"
     ],
     "language": "python",
     "metadata": {},
     "outputs": [],
     "prompt_number": 7
    },
    {
     "cell_type": "code",
     "collapsed": false,
     "input": [
      "for i in range(8):\n",
      "    p = permutation(qgi.N)\n",
      "    Ap = A[p,:][:,p]\n",
      "    qgi.save_graph('graphs/VMB-2013/n13-0-{}'.format(i), Ap)"
     ],
     "language": "python",
     "metadata": {},
     "outputs": [],
     "prompt_number": 6
    }
   ],
   "metadata": {}
  }
 ]
}