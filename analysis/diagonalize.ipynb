{
 "metadata": {
  "name": "diagonalize"
 },
 "nbformat": 3,
 "nbformat_minor": 0,
 "worksheets": [
  {
   "cells": [
    {
     "cell_type": "code",
     "collapsed": false,
     "input": [
      "from itertools import combinations\n",
      "from pylab import *\n",
      "from scipy.sparse.linalg import eigsh\n",
      "import numpy as np\n",
      "import pandas\n",
      "import pyximport; pyximport.install()\n",
      "import gimp"
     ],
     "language": "python",
     "metadata": {},
     "outputs": [],
     "prompt_number": 1
    },
    {
     "cell_type": "heading",
     "level": 2,
     "metadata": {},
     "source": [
      "Input parameters"
     ]
    },
    {
     "cell_type": "code",
     "collapsed": false,
     "input": [
      "graph_files = [\n",
      "               '../data/nonsrg/A_G1.dat', \n",
      "               '../data/nonsrg/A_G2.dat'\n",
      "              ]"
     ],
     "language": "python",
     "metadata": {},
     "outputs": [],
     "prompt_number": 2
    },
    {
     "cell_type": "markdown",
     "metadata": {},
     "source": [
      "Load graphs in Itay's format"
     ]
    },
    {
     "cell_type": "code",
     "collapsed": false,
     "input": [
      "graphs = [gimp.load_graph(g) for g in graph_files]"
     ],
     "language": "python",
     "metadata": {},
     "outputs": [],
     "prompt_number": 3
    },
    {
     "cell_type": "code",
     "collapsed": false,
     "input": [
      "#s_vals = linspace(0.05, 0.95, 50)\n",
      "s_vals = [0.95]\n",
      "h_vals = logspace(-1, 1, 10)"
     ],
     "language": "python",
     "metadata": {},
     "outputs": [],
     "prompt_number": 4
    },
    {
     "cell_type": "code",
     "collapsed": false,
     "input": [
      "N = len(graphs[0])\n",
      "d = 2**N\n",
      "recs = []\n",
      "\n",
      "for graph, graph_file in zip(graphs, graph_files):\n",
      "    for h0 in h_vals:\n",
      "        for s in s_vals:\n",
      "            H = gimp.hamiltonian(graph, h0*np.ones(N), s).tocsr()\n",
      "            energy, psi = eigsh(H, k=1, which='SA')\n",
      "            energy, psi = energy[0], psi.T[0]\n",
      "            mz2 = gimp.mag_z(N, psi)**2\n",
      "            mx2 = gimp.mag_x(N, psi)**2\n",
      "            q2 = gimp.overlap(N, psi)\n",
      "            recs.append((graph_file, h0, s, energy, mz2, mx2, q2))\n",
      "            \n",
      "df = pandas.DataFrame.from_records(recs, columns=['file', 'h0', 's', 'energy', 'mz2', 'mx2', 'q2'])\n",
      "df = df.set_index(['file', 'h0', 's'])\n",
      "df.to_csv('out-py-n14')\n",
      "df.head()"
     ],
     "language": "python",
     "metadata": {},
     "outputs": [
      {
       "html": [
        "<div style=\"max-height:1000px;max-width:1500px;overflow:auto;\">\n",
        "<table border=\"1\" class=\"dataframe\">\n",
        "  <thead>\n",
        "    <tr style=\"text-align: right;\">\n",
        "      <th></th>\n",
        "      <th></th>\n",
        "      <th></th>\n",
        "      <th>energy</th>\n",
        "      <th>mz2</th>\n",
        "      <th>mx2</th>\n",
        "      <th>q2</th>\n",
        "    </tr>\n",
        "    <tr>\n",
        "      <th>file</th>\n",
        "      <th>h0</th>\n",
        "      <th>s</th>\n",
        "      <th></th>\n",
        "      <th></th>\n",
        "      <th></th>\n",
        "      <th></th>\n",
        "    </tr>\n",
        "  </thead>\n",
        "  <tbody>\n",
        "    <tr>\n",
        "      <th rowspan=\"5\" valign=\"top\">../data/nonsrg/A_G1.dat</th>\n",
        "      <th>0.100000</th>\n",
        "      <th>0.95</th>\n",
        "      <td>-19.197037</td>\n",
        "      <td> 0.020368</td>\n",
        "      <td> 0.000404</td>\n",
        "      <td> 0.999563</td>\n",
        "    </tr>\n",
        "    <tr>\n",
        "      <th>0.166810</th>\n",
        "      <th>0.95</th>\n",
        "      <td>-19.323857</td>\n",
        "      <td> 0.020372</td>\n",
        "      <td> 0.000391</td>\n",
        "      <td> 0.999582</td>\n",
        "    </tr>\n",
        "    <tr>\n",
        "      <th>0.278256</th>\n",
        "      <th>0.95</th>\n",
        "      <td>-19.535428</td>\n",
        "      <td> 0.020377</td>\n",
        "      <td> 0.000371</td>\n",
        "      <td> 0.999609</td>\n",
        "    </tr>\n",
        "    <tr>\n",
        "      <th>0.464159</th>\n",
        "      <th>0.95</th>\n",
        "      <td>-19.888407</td>\n",
        "      <td> 0.020385</td>\n",
        "      <td> 0.000345</td>\n",
        "      <td> 0.999644</td>\n",
        "    </tr>\n",
        "    <tr>\n",
        "      <th>0.774264</th>\n",
        "      <th>0.95</th>\n",
        "      <td>-20.477343</td>\n",
        "      <td> 0.020395</td>\n",
        "      <td> 0.000318</td>\n",
        "      <td> 0.999680</td>\n",
        "    </tr>\n",
        "  </tbody>\n",
        "</table>\n",
        "</div>"
       ],
       "output_type": "pyout",
       "prompt_number": 14,
       "text": [
        "                                          energy       mz2       mx2        q2\n",
        "file                    h0       s                                            \n",
        "../data/nonsrg/A_G1.dat 0.100000 0.95 -19.197037  0.020368  0.000404  0.999563\n",
        "                        0.166810 0.95 -19.323857  0.020372  0.000391  0.999582\n",
        "                        0.278256 0.95 -19.535428  0.020377  0.000371  0.999609\n",
        "                        0.464159 0.95 -19.888407  0.020385  0.000345  0.999644\n",
        "                        0.774264 0.95 -20.477343  0.020395  0.000318  0.999680"
       ]
      }
     ],
     "prompt_number": 14
    },
    {
     "cell_type": "code",
     "collapsed": false,
     "input": [
      "dfx = df['q2'].unstack('s')\n",
      "\n",
      "for ga, gb in combinations(graph_files, 2):\n",
      "    diffs = dfx.ix[ga] - dfx.ix[gb]\n",
      "    sums  = dfx.ix[ga] + dfx.ix[gb]\n",
      "    delta = (2. * diffs / sums).abs()\n",
      "    delta.plot(logx=True)\n",
      "    legend(title='$s$', loc='best')\n",
      "    ylabel('$\\Delta(Q_2)$')\n",
      "    savefig('delta_q2_py.pdf')"
     ],
     "language": "python",
     "metadata": {},
     "outputs": [
      {
       "output_type": "display_data",
       "png": "[encoded data removed]"
      }
     ],
     "prompt_number": 15
    },
    {
     "cell_type": "code",
     "collapsed": false,
     "input": [],
     "language": "python",
     "metadata": {},
     "outputs": []
    }
   ],
   "metadata": {}
  }
 ]
}