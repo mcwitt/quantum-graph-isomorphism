{
 "metadata": {
  "name": "diagonalize"
 },
 "nbformat": 3,
 "nbformat_minor": 0,
 "worksheets": [
  {
   "cells": [
    {
     "cell_type": "code",
     "collapsed": false,
     "input": [
      "%load_ext cythonmagic"
     ],
     "language": "python",
     "metadata": {},
     "outputs": [],
     "prompt_number": 6
    },
    {
     "cell_type": "code",
     "collapsed": false,
     "input": [
      "from pylab import *\n",
      "from scipy.sparse import lil_matrix\n",
      "from scipy.sparse.linalg import eigsh"
     ],
     "language": "python",
     "metadata": {},
     "outputs": [],
     "prompt_number": 126
    },
    {
     "cell_type": "code",
     "collapsed": false,
     "input": [
      "## read in adjacency matrix ##\n",
      "import fileinput\n",
      "\n",
      "a = []\n",
      "\n",
      "for line in fileinput.input('../data/rand-n4-1'):\n",
      "    a.append(list(line.strip()))\n",
      "\n",
      "a = np.array(a, dtype=int)\n",
      "assert(a.shape[0] == a.shape[1])\n",
      "N = a.shape[0]\n",
      "d = 2**N"
     ],
     "language": "python",
     "metadata": {},
     "outputs": [],
     "prompt_number": 184
    },
    {
     "cell_type": "code",
     "collapsed": false,
     "input": [
      "h = np.ones(a.shape[0])"
     ],
     "language": "python",
     "metadata": {},
     "outputs": [],
     "prompt_number": 185
    },
    {
     "cell_type": "code",
     "collapsed": false,
     "input": [
      "def hamiltonian(a, h, s):\n",
      "    N = a.shape[0]\n",
      "    d = 2**N\n",
      "    H = lil_matrix((d, d))\n",
      "\n",
      "    # driver Hamiltonian #\n",
      "\n",
      "    for i in range(d):\n",
      "        for j in range(N):\n",
      "            H[i, neighbor(i, j)] = 1. - s\n",
      "\n",
      "    # problem Hamiltonian #\n",
      "\n",
      "    for i in range(d):\n",
      "\n",
      "        for n in range(N):\n",
      "\n",
      "            s_n = spin(i, n)\n",
      "            H[i, i] += s * h[n] * s_n\n",
      "\n",
      "            for m in range(n):\n",
      "                if a[n, m] == 1:\n",
      "                    H[i, i] += s * s_n * spin(i, m)\n",
      "\n",
      "    return H"
     ],
     "language": "python",
     "metadata": {},
     "outputs": [],
     "prompt_number": 200
    },
    {
     "cell_type": "code",
     "collapsed": false,
     "input": [
      "import scipy.sparse\n",
      "\n",
      "def hamiltonian2(a, h, s):\n",
      "    N = a.shape[0]\n",
      "    d = 2**N\n",
      "    \n",
      "    nnz = N*(N+1)*d\n",
      "    rows = np.zeros(nnz, dtype=np.intc)\n",
      "    cols = np.zeros(nnz, dtype=np.intc)\n",
      "    vals = np.zeros(nnz, dtype=np.double)\n",
      "    \n",
      "    idx = 0\n",
      "\n",
      "    # driver Hamiltonian #\n",
      "\n",
      "    for i in range(d):\n",
      "        for j in range(N):\n",
      "            rows[idx] = i\n",
      "            cols[idx] = neighbor(i, j)\n",
      "            vals[idx] = 1. - s\n",
      "            idx += 1\n",
      "\n",
      "    # problem Hamiltonian #\n",
      "\n",
      "    for i in range(d):\n",
      "\n",
      "        for n in range(N):\n",
      "\n",
      "            s_n = spin(i, n)\n",
      "            \n",
      "            rows[idx] = i\n",
      "            cols[idx] = i\n",
      "            vals[idx] = s * h[n] * s_n\n",
      "            idx += 1\n",
      "\n",
      "            for m in range(n):\n",
      "                if a[n, m] == 1:\n",
      "                    rows[idx] = i\n",
      "                    cols[idx] = i\n",
      "                    vals[idx] = s * s_n * spin(i, m)\n",
      "                    idx += 1\n",
      "\n",
      "    return scipy.sparse.coo_matrix((vals, (rows, cols)), shape=(d,d))"
     ],
     "language": "python",
     "metadata": {},
     "outputs": [],
     "prompt_number": 215
    },
    {
     "cell_type": "code",
     "collapsed": false,
     "input": [
      "%timeit hamiltonian(a, h, 0.9)"
     ],
     "language": "python",
     "metadata": {},
     "outputs": [
      {
       "output_type": "stream",
       "stream": "stdout",
       "text": [
        "1000 loops, best of 3: 1.34 ms per loop\n"
       ]
      }
     ],
     "prompt_number": 223
    },
    {
     "cell_type": "code",
     "collapsed": false,
     "input": [
      "%timeit hamiltonian2(a, h, 0.9)"
     ],
     "language": "python",
     "metadata": {},
     "outputs": [
      {
       "output_type": "stream",
       "stream": "stdout",
       "text": [
        "1000 loops, best of 3: 337 us per loop\n"
       ]
      }
     ],
     "prompt_number": 224
    },
    {
     "cell_type": "code",
     "collapsed": false,
     "input": [
      "(hamiltonian(a,h,0.9).toarray()==hamiltonian2(a,h,0.9).toarray()).all()"
     ],
     "language": "python",
     "metadata": {},
     "outputs": [
      {
       "output_type": "pyout",
       "prompt_number": 222,
       "text": [
        "True"
       ]
      }
     ],
     "prompt_number": 222
    },
    {
     "cell_type": "code",
     "collapsed": false,
     "input": [
      "hamiltonian(a,h,0.9).toarray()"
     ],
     "language": "python",
     "metadata": {},
     "outputs": [
      {
       "output_type": "pyout",
       "prompt_number": 220,
       "text": [
        "array([[-1.8,  0.1,  0.1,  0. ,  0.1,  0. ,  0. ,  0. ,  0.1,  0. ,  0. ,\n",
        "         0. ,  0. ,  0. ,  0. ,  0. ],\n",
        "       [ 0.1, -1.8,  0. ,  0.1,  0. ,  0.1,  0. ,  0. ,  0. ,  0.1,  0. ,\n",
        "         0. ,  0. ,  0. ,  0. ,  0. ],\n",
        "       [ 0.1,  0. , -1.8,  0.1,  0. ,  0. ,  0.1,  0. ,  0. ,  0. ,  0.1,\n",
        "         0. ,  0. ,  0. ,  0. ,  0. ],\n",
        "       [ 0. ,  0.1,  0.1, -1.8,  0. ,  0. ,  0. ,  0.1,  0. ,  0. ,  0. ,\n",
        "         0.1,  0. ,  0. ,  0. ,  0. ],\n",
        "       [ 0.1,  0. ,  0. ,  0. , -1.8,  0.1,  0.1,  0. ,  0. ,  0. ,  0. ,\n",
        "         0. ,  0.1,  0. ,  0. ,  0. ],\n",
        "       [ 0. ,  0.1,  0. ,  0. ,  0.1,  1.8,  0. ,  0.1,  0. ,  0. ,  0. ,\n",
        "         0. ,  0. ,  0.1,  0. ,  0. ],\n",
        "       [ 0. ,  0. ,  0.1,  0. ,  0.1,  0. , -1.8,  0.1,  0. ,  0. ,  0. ,\n",
        "         0. ,  0. ,  0. ,  0.1,  0. ],\n",
        "       [ 0. ,  0. ,  0. ,  0.1,  0. ,  0.1,  0.1,  1.8,  0. ,  0. ,  0. ,\n",
        "         0. ,  0. ,  0. ,  0. ,  0.1],\n",
        "       [ 0.1,  0. ,  0. ,  0. ,  0. ,  0. ,  0. ,  0. , -1.8,  0.1,  0.1,\n",
        "         0. ,  0.1,  0. ,  0. ,  0. ],\n",
        "       [ 0. ,  0.1,  0. ,  0. ,  0. ,  0. ,  0. ,  0. ,  0.1, -1.8,  0. ,\n",
        "         0.1,  0. ,  0.1,  0. ,  0. ],\n",
        "       [ 0. ,  0. ,  0.1,  0. ,  0. ,  0. ,  0. ,  0. ,  0.1,  0. ,  1.8,\n",
        "         0.1,  0. ,  0. ,  0.1,  0. ],\n",
        "       [ 0. ,  0. ,  0. ,  0.1,  0. ,  0. ,  0. ,  0. ,  0. ,  0.1,  0.1,\n",
        "         1.8,  0. ,  0. ,  0. ,  0.1],\n",
        "       [ 0. ,  0. ,  0. ,  0. ,  0.1,  0. ,  0. ,  0. ,  0.1,  0. ,  0. ,\n",
        "         0. , -1.8,  0.1,  0.1,  0. ],\n",
        "       [ 0. ,  0. ,  0. ,  0. ,  0. ,  0.1,  0. ,  0. ,  0. ,  0.1,  0. ,\n",
        "         0. ,  0.1,  1.8,  0. ,  0.1],\n",
        "       [ 0. ,  0. ,  0. ,  0. ,  0. ,  0. ,  0.1,  0. ,  0. ,  0. ,  0.1,\n",
        "         0. ,  0.1,  0. ,  1.8,  0.1],\n",
        "       [ 0. ,  0. ,  0. ,  0. ,  0. ,  0. ,  0. ,  0.1,  0. ,  0. ,  0. ,\n",
        "         0.1,  0. ,  0.1,  0.1,  5.4]])"
       ]
      }
     ],
     "prompt_number": 220
    },
    {
     "cell_type": "code",
     "collapsed": false,
     "input": [],
     "language": "python",
     "metadata": {},
     "outputs": []
    }
   ],
   "metadata": {}
  }
 ]
}