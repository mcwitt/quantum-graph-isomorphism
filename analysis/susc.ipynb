{
 "metadata": {
  "name": "susc"
 },
 "nbformat": 3,
 "nbformat_minor": 0,
 "worksheets": [
  {
   "cells": [
    {
     "cell_type": "code",
     "collapsed": false,
     "input": [
      "import pandas\n",
      "import re\n",
      "from analysis import *\n",
      "from qgi import *\n",
      "from itertools import combinations"
     ],
     "language": "python",
     "metadata": {},
     "outputs": [],
     "prompt_number": 1
    },
    {
     "cell_type": "code",
     "collapsed": false,
     "input": [
      "graphs, df = load_files(['g13a.txt.out', 'g13b.txt.out'])\n",
      "df = df.drop('ver', axis=1)"
     ],
     "language": "python",
     "metadata": {},
     "outputs": [],
     "prompt_number": "*"
    },
    {
     "cell_type": "heading",
     "level": 1,
     "metadata": {},
     "source": [
      "Compare with ARPACK diagonalization"
     ]
    },
    {
     "cell_type": "code",
     "collapsed": false,
     "input": [
      "from scipy.sparse.linalg import eigsh"
     ],
     "language": "python",
     "metadata": {},
     "outputs": [],
     "prompt_number": 3
    },
    {
     "cell_type": "code",
     "collapsed": false,
     "input": [
      "graph_files = ['graphs/VMB-2013/g13a.txt', 'graphs/VMB-2013/g13b.txt']"
     ],
     "language": "python",
     "metadata": {},
     "outputs": [],
     "prompt_number": 4
    },
    {
     "cell_type": "code",
     "collapsed": false,
     "input": [
      "graphs = [load_graph(g) for g in graph_files]\n",
      "for g in graphs:\n",
      "    assert len(g) == N"
     ],
     "language": "python",
     "metadata": {},
     "outputs": [],
     "prompt_number": 5
    },
    {
     "cell_type": "code",
     "collapsed": false,
     "input": [
      "s_vals = linspace(0.05, 0.95, 21)\n",
      "h0_vals = logspace(-1, 1, 21)\n",
      "dh = 1e-3"
     ],
     "language": "python",
     "metadata": {},
     "outputs": [],
     "prompt_number": 6
    },
    {
     "cell_type": "code",
     "collapsed": false,
     "input": [
      "def diagonalize(H, v0):\n",
      "    energy, psi = eigsh(H, v0=v0, k=1, which='SA')\n",
      "    return energy[0], psi.T[0]"
     ],
     "language": "python",
     "metadata": {},
     "outputs": [],
     "prompt_number": 7
    },
    {
     "cell_type": "code",
     "collapsed": false,
     "input": [
      "output = []\n",
      "\n",
      "for graph, graph_file in zip(graphs, graph_files):\n",
      "    psi0 = rand(D)\n",
      "    for h0 in h0_vals:\n",
      "        for s in s_vals:\n",
      "            h = h0 * np.ones(N)\n",
      "            H = hamiltonian(graph, h, s)\n",
      "            energy, psi0 = diagonalize(H, psi0)\n",
      "            mz = mag_z(psi0)\n",
      "            mx = mag_x(psi0)\n",
      "            q2 = overlap(psi0)\n",
      "            \n",
      "            q2p = 0.\n",
      "            \n",
      "            for j in range(N):\n",
      "                h[j] += 0.5 * dh\n",
      "                H = hamiltonian(graph, h, s)\n",
      "                energy, psi = diagonalize(H, psi0)\n",
      "                fj = sigma_z(psi)\n",
      "                \n",
      "                h[j] -= dh\n",
      "                H = hamiltonian(graph, h, s)\n",
      "                energy, psi = diagonalize(H, psi0)\n",
      "                fj = (fj - sigma_z(psi)) / dh\n",
      "                q2p += np.sum(fj**2)\n",
      "                \n",
      "                h[j] += 0.5 * dh\n",
      "                \n",
      "            q2p = sqrt(q2p) / N\n",
      "            output.append((graph_file, h, dh, s, energy, mz, mx, q2, q2p))\n",
      "            \n",
      "df = pandas.DataFrame.from_records(output,\n",
      "    columns=['graph', 'h', 'dh', 's', 'energy', 'mz', 'mx', 'q2', 'q2p'])\n",
      "df = df.set_index(['graph', 'h', 'dh', 's'])\n",
      "df.head()"
     ],
     "language": "python",
     "metadata": {},
     "outputs": [],
     "prompt_number": "*"
    },
    {
     "cell_type": "code",
     "collapsed": false,
     "input": [
      "for ga, gb in combinations(graph_files, 2):\n",
      "    xa = df.xs(ga, level='graph')\n",
      "    xb = df.xs(gb, level='graph')\n",
      "    delta = 2*((xa - xb) / (xa + xb)).abs()\n",
      "    for col in df.columns:\n",
      "        if col in ['iterations', 'res2']: continue\n",
      "        figure()\n",
      "        plot_heatmap(delta[col].unstack('s'))\n",
      "        xlabel('$s$'); ylabel('$h$')\n",
      "        title('$\\Delta {}$ ({}, {})'.format(symbol(col), ga, gb))\n",
      "        #imgfile = 'map-{}-{}-{}.png'.format(col, ga, gb)\n",
      "        #imgfile = re.sub('/', '_', imgfile)\n",
      "        #savefig(imgfile)"
     ],
     "language": "python",
     "metadata": {},
     "outputs": [],
     "prompt_number": 5
    }
   ],
   "metadata": {}
  }
 ]
}