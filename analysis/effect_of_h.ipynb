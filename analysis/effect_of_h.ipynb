{
 "metadata": {
  "name": "effect_of_h"
 },
 "nbformat": 3,
 "nbformat_minor": 0,
 "worksheets": [
  {
   "cells": [
    {
     "cell_type": "code",
     "collapsed": false,
     "input": [
      "import pandas\n",
      "from itertools import combinations"
     ],
     "language": "python",
     "metadata": {},
     "outputs": [],
     "prompt_number": 2
    },
    {
     "cell_type": "code",
     "collapsed": false,
     "input": [
      "df = pandas.read_table('out-s0.95', sep=' *', index_col=['file', 'h0', 's'])\n",
      "graphs = df.index.get_level_values('file').unique()\n",
      "df.head()"
     ],
     "language": "python",
     "metadata": {},
     "outputs": [
      {
       "html": [
        "<div style=\"max-height:1000px;max-width:1500px;overflow:auto;\">\n",
        "<table border=\"1\" class=\"dataframe\">\n",
        "  <thead>\n",
        "    <tr style=\"text-align: right;\">\n",
        "      <th></th>\n",
        "      <th></th>\n",
        "      <th></th>\n",
        "      <th>iterations</th>\n",
        "      <th>energy</th>\n",
        "      <th>mz2</th>\n",
        "      <th>mx2</th>\n",
        "      <th>q2</th>\n",
        "    </tr>\n",
        "    <tr>\n",
        "      <th>file</th>\n",
        "      <th>h0</th>\n",
        "      <th>s</th>\n",
        "      <th></th>\n",
        "      <th></th>\n",
        "      <th></th>\n",
        "      <th></th>\n",
        "      <th></th>\n",
        "    </tr>\n",
        "  </thead>\n",
        "  <tbody>\n",
        "    <tr>\n",
        "      <th rowspan=\"5\" valign=\"top\">srg-n16-1</th>\n",
        "      <th>0.100</th>\n",
        "      <th>0.95</th>\n",
        "      <td> 31</td>\n",
        "      <td>-15.2106</td>\n",
        "      <td> 1.230050e-09</td>\n",
        "      <td> 0.000705</td>\n",
        "      <td> 0.227550</td>\n",
        "    </tr>\n",
        "    <tr>\n",
        "      <th>0.101</th>\n",
        "      <th>0.95</th>\n",
        "      <td> 68</td>\n",
        "      <td>-15.2106</td>\n",
        "      <td> 1.253630e-09</td>\n",
        "      <td> 0.000705</td>\n",
        "      <td> 0.227550</td>\n",
        "    </tr>\n",
        "    <tr>\n",
        "      <th>0.102</th>\n",
        "      <th>0.95</th>\n",
        "      <td> 16</td>\n",
        "      <td>-15.2106</td>\n",
        "      <td> 1.279090e-09</td>\n",
        "      <td> 0.000705</td>\n",
        "      <td> 0.227549</td>\n",
        "    </tr>\n",
        "    <tr>\n",
        "      <th>0.103</th>\n",
        "      <th>0.95</th>\n",
        "      <td> 15</td>\n",
        "      <td>-15.2106</td>\n",
        "      <td> 1.305080e-09</td>\n",
        "      <td> 0.000705</td>\n",
        "      <td> 0.227549</td>\n",
        "    </tr>\n",
        "    <tr>\n",
        "      <th>0.104</th>\n",
        "      <th>0.95</th>\n",
        "      <td> 15</td>\n",
        "      <td>-15.2106</td>\n",
        "      <td> 1.331600e-09</td>\n",
        "      <td> 0.000705</td>\n",
        "      <td> 0.227549</td>\n",
        "    </tr>\n",
        "  </tbody>\n",
        "</table>\n",
        "</div>"
       ],
       "output_type": "pyout",
       "prompt_number": 3,
       "text": [
        "                      iterations   energy           mz2       mx2        q2\n",
        "file      h0    s                                                          \n",
        "srg-n16-1 0.100 0.95          31 -15.2106  1.230050e-09  0.000705  0.227550\n",
        "          0.101 0.95          68 -15.2106  1.253630e-09  0.000705  0.227550\n",
        "          0.102 0.95          16 -15.2106  1.279090e-09  0.000705  0.227549\n",
        "          0.103 0.95          15 -15.2106  1.305080e-09  0.000705  0.227549\n",
        "          0.104 0.95          15 -15.2106  1.331600e-09  0.000705  0.227549"
       ]
      }
     ],
     "prompt_number": 3
    },
    {
     "cell_type": "code",
     "collapsed": false,
     "input": [
      "dfx = df['q2'].unstack('s')\n",
      "\n",
      "for ga, gb in combinations(graphs, 2):\n",
      "    diffs = dfx.ix[ga] - dfx.ix[gb]\n",
      "    sums  = dfx.ix[ga] + dfx.ix[gb]\n",
      "    delta = (2. * diffs / sums).abs()\n",
      "    delta.plot(logx=True)\n",
      "    legend(title='$s$', loc='best')\n",
      "    ylabel('$\\Delta(Q_2)$')\n",
      "    savefig('diff_q2.pdf')"
     ],
     "language": "python",
     "metadata": {},
     "outputs": [
      {
       "output_type": "display_data",
       "png": "[encoded data removed]"
      }
     ],
     "prompt_number": 7
    },
    {
     "cell_type": "code",
     "collapsed": false,
     "input": [],
     "language": "python",
     "metadata": {},
     "outputs": []
    }
   ],
   "metadata": {}
  }
 ]
}