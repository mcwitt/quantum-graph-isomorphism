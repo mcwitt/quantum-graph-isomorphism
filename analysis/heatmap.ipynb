{
 "metadata": {
  "name": "heatmap"
 },
 "nbformat": 3,
 "nbformat_minor": 0,
 "worksheets": [
  {
   "cells": [
    {
     "cell_type": "code",
     "collapsed": false,
     "input": [
      "import pandas\n",
      "from itertools import combinations"
     ],
     "language": "python",
     "metadata": {},
     "outputs": [],
     "prompt_number": 1
    },
    {
     "cell_type": "code",
     "collapsed": false,
     "input": [
      "df = pandas.read_table('out-cg-n14', sep=' *', index_col=['file', 'h0', 's'])\n",
      "graphs = df.index.get_level_values('file').unique()\n",
      "df.head()"
     ],
     "language": "python",
     "metadata": {},
     "outputs": [
      {
       "html": [
        "<div style=\"max-height:1000px;max-width:1500px;overflow:auto;\">\n",
        "<table border=\"1\" class=\"dataframe\">\n",
        "  <thead>\n",
        "    <tr style=\"text-align: right;\">\n",
        "      <th></th>\n",
        "      <th></th>\n",
        "      <th></th>\n",
        "      <th>iterations</th>\n",
        "      <th>energy</th>\n",
        "      <th>mz2</th>\n",
        "      <th>mx2</th>\n",
        "      <th>q2</th>\n",
        "    </tr>\n",
        "    <tr>\n",
        "      <th>file</th>\n",
        "      <th>h0</th>\n",
        "      <th>s</th>\n",
        "      <th></th>\n",
        "      <th></th>\n",
        "      <th></th>\n",
        "      <th></th>\n",
        "      <th></th>\n",
        "    </tr>\n",
        "  </thead>\n",
        "  <tbody>\n",
        "    <tr>\n",
        "      <th rowspan=\"5\" valign=\"top\">data/nonsrg/A_G1.dat</th>\n",
        "      <th rowspan=\"5\" valign=\"top\">0.1</th>\n",
        "      <th>0.05000</th>\n",
        "      <td> 17</td>\n",
        "      <td>-13.2177</td>\n",
        "      <td> 0.002252</td>\n",
        "      <td> 0.977411</td>\n",
        "      <td> 0.031207</td>\n",
        "    </tr>\n",
        "    <tr>\n",
        "      <th>0.06125</th>\n",
        "      <td> 23</td>\n",
        "      <td>-13.1703</td>\n",
        "      <td> 0.000026</td>\n",
        "      <td> 0.995834</td>\n",
        "      <td> 0.017791</td>\n",
        "    </tr>\n",
        "    <tr>\n",
        "      <th>0.07250</th>\n",
        "      <td> 14</td>\n",
        "      <td>-13.0243</td>\n",
        "      <td> 0.000035</td>\n",
        "      <td> 0.994048</td>\n",
        "      <td> 0.021289</td>\n",
        "    </tr>\n",
        "    <tr>\n",
        "      <th>0.08375</th>\n",
        "      <td> 14</td>\n",
        "      <td>-12.8805</td>\n",
        "      <td> 0.000043</td>\n",
        "      <td> 0.991895</td>\n",
        "      <td> 0.024882</td>\n",
        "    </tr>\n",
        "    <tr>\n",
        "      <th>0.09500</th>\n",
        "      <td> 15</td>\n",
        "      <td>-12.7388</td>\n",
        "      <td> 0.000053</td>\n",
        "      <td> 0.989352</td>\n",
        "      <td> 0.028581</td>\n",
        "    </tr>\n",
        "  </tbody>\n",
        "</table>\n",
        "</div>"
       ],
       "output_type": "pyout",
       "prompt_number": 2,
       "text": [
        "                                  iterations   energy       mz2       mx2        q2\n",
        "file                 h0  s                                                         \n",
        "data/nonsrg/A_G1.dat 0.1 0.05000          17 -13.2177  0.002252  0.977411  0.031207\n",
        "                         0.06125          23 -13.1703  0.000026  0.995834  0.017791\n",
        "                         0.07250          14 -13.0243  0.000035  0.994048  0.021289\n",
        "                         0.08375          14 -12.8805  0.000043  0.991895  0.024882\n",
        "                         0.09500          15 -12.7388  0.000053  0.989352  0.028581"
       ]
      }
     ],
     "prompt_number": 2
    },
    {
     "cell_type": "code",
     "collapsed": false,
     "input": [
      "for ga, gb in combinations(graphs[:2], 2):\n",
      "    xa = df.xs(ga, level='file')\n",
      "    xb = df.xs(gb, level='file')\n",
      "    delta = (xa - xb).abs() / (xa + xb) * 2.\n",
      "    data = delta['q2'].unstack('s')\n",
      "    s = data.columns.values.astype(float)\n",
      "    h = data.index.values.astype(float)\n",
      "    s, h = meshgrid(s, h)\n",
      "    figure()\n",
      "    pcolor(s, h, data)\n",
      "    yscale('log')\n",
      "    xlabel('$s$')\n",
      "    ylabel('$h_0$')\n",
      "    title('$\\Delta Q_2$({}, {})'.format(ga, gb))\n",
      "    colorbar()\n",
      "    #savefig('heatmap.png')"
     ],
     "language": "python",
     "metadata": {},
     "outputs": [
      {
       "output_type": "display_data",
       "png": "[encoded data removed]"
      }
     ],
     "prompt_number": 10
    },
    {
     "cell_type": "code",
     "collapsed": false,
     "input": [],
     "language": "python",
     "metadata": {},
     "outputs": []
    }
   ],
   "metadata": {}
  }
 ]
}